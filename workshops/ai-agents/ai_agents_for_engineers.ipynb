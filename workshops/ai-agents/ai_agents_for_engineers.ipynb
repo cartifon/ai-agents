{
  "cells": [
    {
      "cell_type": "code",
      "execution_count": null,
      "metadata": {
        "id": "ur8xi4C7S06n"
      },
      "outputs": [],
      "source": [
        "# Copyright 2024 Google LLC\n",
        "#\n",
        "# Licensed under the Apache License, Version 2.0 (the \"License\");\n",
        "# you may not use this file except in compliance with the License.\n",
        "# You may obtain a copy of the License at\n",
        "#\n",
        "#     https://www.apache.org/licenses/LICENSE-2.0\n",
        "#\n",
        "# Unless required by applicable law or agreed to in writing, software\n",
        "# distributed under the License is distributed on an \"AS IS\" BASIS,\n",
        "# WITHOUT WARRANTIES OR CONDITIONS OF ANY KIND, either express or implied.\n",
        "# See the License for the specific language governing permissions and\n",
        "# limitations under the License."
      ]
    },
    {
      "cell_type": "markdown",
      "metadata": {
        "id": "JAPoU8Sm5E6e"
      },
      "source": [
        "# AI Agents for Engineers (Evolution of AI Agents)\n",
        "\n",
        "<a target=\"_blank\" href=\"https://colab.research.google.com/github/GoogleCloudPlatform/generative-ai/blob/main/workshops/ai-agents/ai_agents_for_engineers.ipynb\">\n",
        "  <img src=\"https://colab.research.google.com/assets/colab-badge.svg\" alt=\"Open In Colab\"/>\n",
        "</a>"
      ]
    },
    {
      "cell_type": "markdown",
      "metadata": {
        "id": "84f0f73a0f76"
      },
      "source": [
        "| | |\n",
        "|-|-|\n",
        "| Author(s) | [Kristopher Overholt](https://github.com/koverholt) [Holt Skinner](https://github.com/holtskinner)|"
      ]
    },
    {
      "cell_type": "markdown",
      "metadata": {
        "id": "tvgnzT1CKxrO"
      },
      "source": [
        "## Overview\n",
        "\n",
        "This notebook demonstrates 3 different approaches to generating essays using the [Gemini API in Google AI Studio](https://ai.google.dev/gemini-api/docs). Each method illustrates a distinct paradigm for running AI Agents in differing levels of complexity.\n",
        "\n",
        "1. Zero-Shot Approach with the Gemini API\n",
        "2. Step-by-Step Approach With LangChain\n",
        "3. Iterative, AI-Agent Approach with LangGraph"
      ]
    },
    {
      "cell_type": "markdown",
      "metadata": {
        "id": "61RBz8LLbxCR"
      },
      "source": [
        "## Get started"
      ]
    },
    {
      "cell_type": "markdown",
      "metadata": {
        "id": "No17Cw5hgx12"
      },
      "source": [
        "### Install Gemini SDK and other required packages\n"
      ]
    },
    {
      "cell_type": "code",
      "execution_count": 1,
      "metadata": {
        "id": "tFy3H3aPgx12"
      },
      "outputs": [],
      "source": [
        "%pip install --upgrade --quiet \\\n",
        "    google-genai \\\n",
        "    langgraph \\\n",
        "    langchain \\\n",
        "    langchain-google-genai \\\n",
        "    langchain-google-vertexai \\\n",
        "    langchain-community \\\n",
        "    tavily-python \\\n",
        "    pydantic"
      ]
    },
    {
      "cell_type": "markdown",
      "metadata": {
        "id": "R5Xep4W9lq-Z"
      },
      "source": [
        "### Restart runtime\n",
        "\n",
        "To use the newly installed packages in this Jupyter runtime, you must restart the runtime. You can do this by running the cell below, which restarts the current kernel.\n",
        "\n",
        "The restart might take a minute or longer. After it's restarted, continue to the next step."
      ]
    },
    {
      "cell_type": "code",
      "execution_count": 1,
      "metadata": {
        "id": "XRvKdaPDTznN",
        "colab": {
          "base_uri": "https://localhost:8080/"
        },
        "outputId": "9dd88dfc-2ebe-4f4d-f27e-9afc9254f8ba"
      },
      "outputs": [
        {
          "output_type": "execute_result",
          "data": {
            "text/plain": [
              "{'status': 'ok', 'restart': True}"
            ]
          },
          "metadata": {},
          "execution_count": 1
        }
      ],
      "source": [
        "import IPython\n",
        "\n",
        "app = IPython.Application.instance()\n",
        "app.kernel.do_shutdown(True)"
      ]
    },
    {
      "cell_type": "markdown",
      "metadata": {
        "id": "SbmM4z7FOBpM"
      },
      "source": [
        "<div class=\"alert alert-block alert-warning\">\n",
        "<b>⚠️ The kernel is going to restart. Wait until it's finished before continuing to the next step. ⚠️</b>\n",
        "</div>\n"
      ]
    },
    {
      "cell_type": "markdown",
      "metadata": {
        "id": "0781fd4c9001"
      },
      "source": [
        "### Configure API keys\n",
        "\n",
        "Get API keys from [Google AI Studio](https://ai.google.dev/gemini-api/docs/api-key) and [Tavily](https://tavily.com/)."
      ]
    },
    {
      "cell_type": "code",
      "execution_count": 9,
      "metadata": {
        "id": "nvuDx1V6buOQ"
      },
      "outputs": [],
      "source": [
        "# If your API Keys are in Colab Secrets\n",
        "import os\n",
        "from google.colab import userdata\n",
        "\n",
        "os.environ[\"GOOGLE_API_KEY\"] = userdata.get(\"GOOGLE_API_KEY\")\n",
        "os.environ[\"TAVILY_API_KEY\"] = userdata.get(\"TAVILY_API_KEY\")"
      ]
    },
    {
      "cell_type": "markdown",
      "metadata": {
        "id": "65c5d2c58412"
      },
      "source": [
        "Create a client to make API calls."
      ]
    },
    {
      "cell_type": "code",
      "execution_count": 11,
      "metadata": {
        "id": "0e61c124d460"
      },
      "outputs": [],
      "source": [
        "from google import genai\n",
        "\n",
        "client = genai.Client(api_key=os.environ[\"GOOGLE_API_KEY\"])"
      ]
    },
    {
      "cell_type": "markdown",
      "metadata": {
        "id": "EdvJRUWRNGHE"
      },
      "source": [
        "## Generating Essays Using a Zero-Shot Approach with the Gemini API\n",
        "\n",
        "With just a single call to the `generate_content` method, users can create detailed, structured essays on any topic by leveraging state-of-the-art language models such as Gemini 1.5 Pro or Gemini 1.5 Flash.\n",
        "\n",
        "<img src=\"https://github.com/GoogleCloudPlatform/generative-ai/blob/main/workshops/ai-agents/1-prompt-essay.png?raw=1\" width=\"350px\">"
      ]
    },
    {
      "cell_type": "markdown",
      "metadata": {
        "id": "5303c05f7aa6"
      },
      "source": [
        "### Import libraries"
      ]
    },
    {
      "cell_type": "code",
      "execution_count": 12,
      "metadata": {
        "id": "6fc324893334"
      },
      "outputs": [],
      "source": [
        "from IPython.display import Markdown, display"
      ]
    },
    {
      "cell_type": "markdown",
      "metadata": {
        "id": "e43229f3ad4f"
      },
      "source": [
        "### Load model"
      ]
    },
    {
      "cell_type": "code",
      "execution_count": 13,
      "metadata": {
        "id": "cf93d5f0ce00"
      },
      "outputs": [],
      "source": [
        "MODEL_ID = \"gemini-2.0-flash-001\""
      ]
    },
    {
      "cell_type": "markdown",
      "metadata": {
        "id": "bbcd4f57190f"
      },
      "source": [
        "### Make an API call to generate the essay"
      ]
    },
    {
      "cell_type": "code",
      "execution_count": 14,
      "metadata": {
        "id": "3734f520c1b3",
        "colab": {
          "base_uri": "https://localhost:8080/",
          "height": 336
        },
        "outputId": "01a6cbd3-95c1-408b-ad71-003944526083"
      },
      "outputs": [
        {
          "output_type": "display_data",
          "data": {
            "text/plain": [
              "<IPython.core.display.Markdown object>"
            ],
            "text/markdown": "Modern data centers, the powerhouses of the digital age, rely heavily on efficient heat transfer mechanisms to maintain optimal operating temperatures for their dense server racks. The concentration of countless processors and storage devices generates substantial heat, which, if not properly managed, can lead to performance degradation, equipment failure, and even catastrophic downtime. Therefore, heat transfer principles are integral to the design and operation of data centers, with various strategies employed to effectively remove heat from the servers and dissipate it into the surrounding environment. These strategies range from traditional air cooling techniques to more advanced liquid cooling and immersion cooling systems, each leveraging different modes of heat transfer such as conduction, convection, and radiation to maintain a stable thermal environment within the facility.\n\nAir cooling remains a prevalent method, employing fans and strategically designed airflow pathways to circulate cool air across the servers and exhaust hot air out of the data center. However, with increasing server densities and power consumption, liquid cooling solutions are gaining traction. Direct liquid cooling involves channeling coolants, such as water or specialized dielectric fluids, directly to the heat-generating components within the servers, providing superior heat removal capabilities compared to air cooling. Immersion cooling takes this concept further by fully submerging the servers in a non-conductive liquid, maximizing heat transfer through direct contact with the coolant. These liquid cooling techniques offer significant advantages in terms of energy efficiency, reduced space requirements, and improved server performance.\n\nUltimately, the selection of a specific heat transfer solution depends on factors such as the data center's power density, budget, and environmental considerations. Regardless of the chosen method, efficient heat transfer is crucial for ensuring the reliability, sustainability, and overall performance of modern data centers. As computing demands continue to escalate, innovative heat transfer technologies will become even more essential in enabling the continued growth and evolution of the digital landscape. The future of data centers will likely see a greater adoption of advanced cooling techniques, coupled with intelligent monitoring and control systems, to optimize heat transfer and minimize energy consumption.\n"
          },
          "metadata": {}
        }
      ],
      "source": [
        "prompt = \"Write a 3-paragraph essay about the application of heat transfer in modern data centers\"\n",
        "\n",
        "response = client.models.generate_content(model=MODEL_ID, contents=prompt)\n",
        "display(Markdown(response.text))"
      ]
    },
    {
      "cell_type": "markdown",
      "metadata": {
        "id": "520e23ea4332"
      },
      "source": [
        "---\n",
        "\n",
        "However, what if we ask the model to write an essay about an event that happened more recently and the LLM doesn't inherently know about that event?"
      ]
    },
    {
      "cell_type": "code",
      "execution_count": 15,
      "metadata": {
        "id": "dcb775b83997",
        "colab": {
          "base_uri": "https://localhost:8080/",
          "height": 301
        },
        "outputId": "97d9cbe7-2897-4c4e-e3fd-1fe7c4845de4"
      },
      "outputs": [
        {
          "output_type": "display_data",
          "data": {
            "text/plain": [
              "<IPython.core.display.Markdown object>"
            ],
            "text/markdown": "Hurricane Helene and Hurricane Milton, both forming in 2024, left markedly different but nonetheless impactful marks on the regions they affected. Helene, a powerful Category 4 storm, carved a path of destruction through the Caribbean islands. Infrastructure crumbled under the relentless assault of wind and water, leaving communities isolated and vulnerable. The agricultural sector suffered immense losses, with vital crops decimated and long-term food security threatened. Beyond the immediate devastation, the psychological impact on residents who endured the storm's fury was significant, creating a long and arduous road to recovery requiring extensive international aid and careful planning for future resilience.\n\nIn stark contrast, Hurricane Milton, while classified as a weaker tropical storm, unleashed torrential rainfall across the southern United States. The resulting widespread flooding inundated towns and cities, crippling transportation networks and forcing mass evacuations. The economic impact stemmed primarily from property damage, as homes and businesses were submerged, and agricultural losses, with fields rendered unusable. While the loss of life was significantly lower compared to Helene, the disruption caused by Milton highlighted the vulnerability of inland communities to seemingly less powerful weather systems and the necessity for improved flood control measures.\n\nUltimately, the contrasting impacts of Helene and Milton in 2024 served as a stark reminder of the diverse threats posed by hurricanes. Helene demonstrated the sheer destructive force of a major hurricane, exposing the fragility of island nations. Milton, on the other hand, illustrated how even a weaker storm can inflict significant damage through widespread flooding, emphasizing the need for comprehensive disaster preparedness strategies tailored to the specific risks faced by different regions. Both storms underscored the ongoing challenges of climate change and the urgent need for global cooperation to mitigate its effects and build more resilient communities.\n"
          },
          "metadata": {}
        }
      ],
      "source": [
        "prompt = \"Write a 3-paragraph essay about the impacts of Hurricane Helene and Hurricane Milton in 2024.\"\n",
        "response = client.models.generate_content(model=MODEL_ID, contents=prompt)\n",
        "display(Markdown(response.text))"
      ]
    },
    {
      "cell_type": "markdown",
      "metadata": {
        "id": "764ce71aecd5"
      },
      "source": [
        "In this case, the model had no information about these recent events and was unable to write an effective essay."
      ]
    },
    {
      "cell_type": "markdown",
      "metadata": {
        "id": "16aafc60d80b"
      },
      "source": [
        "## Generating Essays Using a Step-by-Step Approach With LangChain\n",
        "\n",
        "This step demonstrates how to build an essay-writing pipeline using [LangChain](https://www.langchain.com/), the [Gemini API in Google AI Studio](https://ai.google.dev/gemini-api/docs), and [Tavily](https://tavily.com/) for search.\n",
        "\n",
        "By combining these tools, we create a seamless workflow that plans an essay outline, performs web searches for relevant information, and generates a complete essay draft based on the collected data.\n",
        "\n",
        "This solution showcases the power of chaining LLM models and external tools to tackle complex tasks with minimal human intervention, providing a robust approach to automated content generation.\n",
        "\n",
        "<img src=\"https://github.com/GoogleCloudPlatform/generative-ai/blob/main/workshops/ai-agents/2-langchain-essay.png?raw=1\" width=\"550px\">\n"
      ]
    },
    {
      "cell_type": "markdown",
      "metadata": {
        "id": "85666976a359"
      },
      "source": [
        "### Import libraries"
      ]
    },
    {
      "cell_type": "code",
      "execution_count": 16,
      "metadata": {
        "id": "29d6e42d27ae"
      },
      "outputs": [],
      "source": [
        "from IPython.display import Markdown, display\n",
        "from langchain import LLMChain\n",
        "from langchain.prompts import ChatPromptTemplate\n",
        "from langchain_community.tools import TavilySearchResults\n",
        "from langchain_core.output_parsers import StrOutputParser\n",
        "from langchain_google_genai import ChatGoogleGenerativeAI"
      ]
    },
    {
      "cell_type": "markdown",
      "metadata": {
        "id": "43392590b1d8"
      },
      "source": [
        "### Initialize Gemini model & search tool"
      ]
    },
    {
      "cell_type": "code",
      "execution_count": 17,
      "metadata": {
        "id": "6f8b0c205551"
      },
      "outputs": [],
      "source": [
        "model = ChatGoogleGenerativeAI(model=MODEL_ID, temperature=0)\n",
        "tavily_tool = TavilySearchResults(max_results=5)"
      ]
    },
    {
      "cell_type": "markdown",
      "metadata": {
        "id": "7ee8707e1867"
      },
      "source": [
        "### Define prompt templates and Runnables"
      ]
    },
    {
      "cell_type": "code",
      "execution_count": 30,
      "metadata": {
        "id": "a09a6a6d1f36"
      },
      "outputs": [],
      "source": [
        "# Planning: Create an outline for the essay\n",
        "outline_template = ChatPromptTemplate.from_template(\n",
        "    \"Create a detailed outline for an essay on {topic}\"\n",
        ")\n",
        "\n",
        "\n",
        "# Research: Web search\n",
        "def research_fn(topic):\n",
        "    response = tavily_tool.invoke({\"query\": topic})\n",
        "    return \"\\n\".join([f\"- {result['content']}\" for result in response])\n",
        "\n",
        "\n",
        "# Writing: Write the essay based on outline and research\n",
        "writing_template = ChatPromptTemplate.from_template(\n",
        "    \"Based on the following outline and research, write a 3-paragraph essay on '{topic}':\\n\\nOutline:\\n{outline}\\n\\nResearch:\\n{research}\\n\\nEssay:\"\n",
        ")"
      ]
    },
    {
      "cell_type": "markdown",
      "metadata": {
        "id": "9a18006523f7"
      },
      "source": [
        "### Define the Runnable Chain using [LangChain Expression Language (LCEL)](https://python.langchain.com/docs/how_to/#langchain-expression-language-lcel)"
      ]
    },
    {
      "cell_type": "code",
      "execution_count": 20,
      "metadata": {
        "id": "cf48601613fd",
        "colab": {
          "base_uri": "https://localhost:8080/"
        },
        "outputId": "193ee72d-4c4e-45dc-a9ec-2c35629d4456"
      },
      "outputs": [
        {
          "output_type": "stream",
          "name": "stderr",
          "text": [
            "<ipython-input-20-85f168a8c6b1>:2: LangChainDeprecationWarning: The class `LLMChain` was deprecated in LangChain 0.1.17 and will be removed in 1.0. Use :meth:`~RunnableSequence, e.g., `prompt | llm`` instead.\n",
            "  outline_chain = LLMChain(llm=model, prompt=outline_template)\n"
          ]
        }
      ],
      "source": [
        "# Define individual chains\n",
        "outline_chain = LLMChain(llm=model, prompt=outline_template)\n",
        "writing_chain = LLMChain(llm=model, prompt=writing_template)\n",
        "\n",
        "# Use the pipe operator to combine chains\n",
        "chain = (\n",
        "    outline_chain\n",
        "    | (\n",
        "        lambda result: {\n",
        "            \"topic\": result[\"topic\"],\n",
        "            \"outline\": result[\"text\"],\n",
        "            \"research\": research_fn(result[\"topic\"]),\n",
        "        }\n",
        "    )\n",
        "    | writing_chain\n",
        "    | (lambda result: result[\"text\"])  # Extract the essay text from the final result\n",
        "    | StrOutputParser()\n",
        ")"
      ]
    },
    {
      "cell_type": "markdown",
      "metadata": {
        "id": "839fc48dd408"
      },
      "source": [
        "### Generate the essay"
      ]
    },
    {
      "cell_type": "code",
      "execution_count": 21,
      "metadata": {
        "id": "a76f80ceec98",
        "colab": {
          "base_uri": "https://localhost:8080/",
          "height": 267
        },
        "outputId": "7be6e975-8598-4005-cb39-bddbad678066"
      },
      "outputs": [
        {
          "output_type": "display_data",
          "data": {
            "text/plain": [
              "<IPython.core.display.Markdown object>"
            ],
            "text/markdown": "The year 2024 witnessed a series of devastating climate events, among them the powerful Hurricanes Helene and Milton, which left a significant mark on Florida and surrounding states. These storms, occurring within weeks of each other, highlighted the increasing vulnerability of coastal regions to extreme weather and the urgent need for comprehensive disaster preparedness and mitigation strategies. The combined impact of Helene and Milton extended beyond immediate infrastructural damage, triggering environmental concerns and exacerbating existing societal challenges.\n\nHurricane Helene first struck, overwhelming infrastructure and leading to environmental hazards. In St. Petersburg, the storm's intensity caused the discharge of approximately 1.5 million gallons of untreated wastewater, contaminating local waterways and posing public health risks. Further inland, the Glendale Wastewater Reclamation Facility in Lakeland experienced significant spills, releasing an additional five million gallons of wastewater. These incidents underscored the fragility of aging infrastructure in the face of increasingly severe weather events and the potential for long-term environmental damage.\n\nFollowing closely on the heels of Helene, Hurricane Milton made landfall as a Category 3 storm, compounding the challenges faced by affected communities. With sustained winds of 120 mph, Milton caused widespread damage to homes, businesses, and infrastructure. Organizations like World Vision and Convoy of Hope mobilized to provide aid to the impacted areas, serving tens of thousands of people across Florida, Georgia, and the Carolinas. The combined impact of these hurricanes contributed to the staggering $229 billion in damages caused by the ten costliest climate disasters of 2024, further emphasizing the escalating economic and human costs of climate change."
          },
          "metadata": {}
        }
      ],
      "source": [
        "essay = chain.invoke({\"topic\": prompt})\n",
        "display(Markdown(essay))"
      ]
    },
    {
      "cell_type": "markdown",
      "metadata": {
        "id": "294d3b7c43b2"
      },
      "source": [
        "## Generating Essays Using an Iterative, AI-Agent Approach with LangGraph\n",
        "\n",
        "This section demonstrates how to build a [LangGraph](https://langchain-ai.github.io/langgraph/)-powered AI agent to generate, revise, and critique essays using large language models such as Google's [Gemini API in Google AI Studio](https://ai.google.dev/gemini-api/docs) or the [Gemini API in Vertex AI](https://cloud.google.com/vertex-ai/generative-ai/docs/multimodal/overview). The LangGraph code was adapted from the awesome DeepLearning.AI course on [AI Agents in LangGraph](https://www.deeplearning.ai/short-courses/ai-agents-in-langgraph/).\n",
        "\n",
        "By defining a structured state flow with nodes such as \"Planner,\" \"Research Plan,\" \"Generate,\" \"Reflect,\" and \"Research Critique,\" the system iteratively creates an essay on a given topic, incorporates feedback, and provides research-backed insights.\n",
        "\n",
        "<img src=\"https://github.com/GoogleCloudPlatform/generative-ai/blob/main/workshops/ai-agents/3-langgraph-essay.png?raw=1\" width=\"900px\">\n",
        "\n",
        "The workflow enables automated essay generation with revision controls, making it ideal for structured writing tasks or educational use cases. Additionally, the notebook uses external search tools to gather and integrate real-time information into the essay content."
      ]
    },
    {
      "cell_type": "markdown",
      "metadata": {
        "id": "f8e41763086f"
      },
      "source": [
        "### Import libraries"
      ]
    },
    {
      "cell_type": "code",
      "execution_count": 22,
      "metadata": {
        "id": "52fbe2cb7be7"
      },
      "outputs": [],
      "source": [
        "from typing import TypedDict\n",
        "\n",
        "# Common libraries\n",
        "from IPython.display import Image, Markdown, display\n",
        "\n",
        "# LangChain and LangGraph components\n",
        "from langchain_core.messages import HumanMessage, SystemMessage\n",
        "\n",
        "# LangChain integrations for Gemini API in Google AI Studio and Vertex AI\n",
        "from langchain_google_genai import ChatGoogleGenerativeAI\n",
        "from langgraph.checkpoint.memory import MemorySaver\n",
        "from langgraph.graph import END, StateGraph\n",
        "\n",
        "# Typing utilities for data validation and schema definitions\n",
        "from pydantic.v1 import BaseModel\n",
        "\n",
        "# Tavily client for performing web searches\n",
        "from tavily import TavilyClient"
      ]
    },
    {
      "cell_type": "markdown",
      "metadata": {
        "id": "fc6ae1fac44f"
      },
      "source": [
        "### Initialize agent memory, agent state, and schema for search queries"
      ]
    },
    {
      "cell_type": "code",
      "execution_count": 23,
      "metadata": {
        "id": "6b92f7bab46d"
      },
      "outputs": [],
      "source": [
        "# Initialize agent memory\n",
        "memory = MemorySaver()\n",
        "\n",
        "\n",
        "# Define the agent's state\n",
        "class AgentState(TypedDict):\n",
        "    task: str\n",
        "    plan: str\n",
        "    draft: str\n",
        "    critique: str\n",
        "    content: list[str]\n",
        "    revision_number: int\n",
        "    max_revisions: int\n",
        "\n",
        "\n",
        "# Define a schema for search queries\n",
        "class Queries(BaseModel):\n",
        "    \"\"\"Variants of query to search for\"\"\"\n",
        "\n",
        "    queries: list[str]"
      ]
    },
    {
      "cell_type": "markdown",
      "metadata": {
        "id": "d9660e58afab"
      },
      "source": [
        "### Initialize Gemini model and search tool\n",
        "\n",
        "Remember to set the environment variables `GOOGLE_API_KEY` and `TAVILY_API_KEY`. And configure credentials for Vertex AI if you switch to it."
      ]
    },
    {
      "cell_type": "code",
      "execution_count": 24,
      "metadata": {
        "id": "ec96b00bb67f"
      },
      "outputs": [],
      "source": [
        "# Initialize Gemini API in Google AI Studio via LangChain\n",
        "model = ChatGoogleGenerativeAI(model=MODEL_ID, temperature=0)\n",
        "\n",
        "# Initialize Gemini API in Vertex AI via LangChain\n",
        "# model = ChatVertexAI(model=\"gemini-1.5-pro-002\", temperature=0)\n",
        "\n",
        "# Initialize Tavily client for performing web searches\n",
        "tavily = TavilyClient()"
      ]
    },
    {
      "cell_type": "markdown",
      "metadata": {
        "id": "d94dc64d3846"
      },
      "source": [
        "### Define prompt templates for each stage"
      ]
    },
    {
      "cell_type": "code",
      "execution_count": 25,
      "metadata": {
        "id": "2cc6f9b05d29"
      },
      "outputs": [],
      "source": [
        "PLAN_PROMPT = \"\"\"You are an expert writer tasked with writing a high level outline of an essay.\n",
        "Write such an outline for the user provided topic. Give an outline of the essay along with any\n",
        "relevant notes or instructions for the sections.\"\"\"\n",
        "\n",
        "WRITER_PROMPT = \"\"\"You are an essay assistant tasked with writing excellent 3-paragraph essays.\n",
        "Generate the best essay possible for the user's request and the initial outline.\n",
        "If the user provides critique, respond with a revised version of your previous attempts.\n",
        "Use Markdown formatting to specify a title and section headers for each paragraph.\n",
        "Utilize all of the information below as needed:\n",
        "---\n",
        "{content}\"\"\"\n",
        "\n",
        "REFLECTION_PROMPT = \"\"\"You are a teacher grading an essay submission.\n",
        "Generate critique and recommendations for the user's submission.\n",
        "Provide detailed recommendations, including requests for length, depth, style, etc.\"\"\"\n",
        "\n",
        "RESEARCH_PLAN_PROMPT = \"\"\"You are a researcher charged with providing information that can\n",
        "be used when writing the following essay. Generate a list of search queries that will gather\n",
        "any relevant information. Only generate 3 queries max.\"\"\"\n",
        "\n",
        "RESEARCH_CRITIQUE_PROMPT = \"\"\"You are a researcher charged with providing information that can\n",
        "be used when making any requested revisions (as outlined below).\n",
        "Generate a list of search queries that will gather any relevant information.\n",
        "Only generate 3 queries max.\"\"\""
      ]
    },
    {
      "cell_type": "markdown",
      "metadata": {
        "id": "c4f51c668222"
      },
      "source": [
        "### Define node functions for each stage"
      ]
    },
    {
      "cell_type": "code",
      "execution_count": 26,
      "metadata": {
        "id": "75c8d7021369"
      },
      "outputs": [],
      "source": [
        "# Generate an outline for the essay\n",
        "\n",
        "\n",
        "def plan_node(state: AgentState):\n",
        "    messages = [SystemMessage(content=PLAN_PROMPT), HumanMessage(content=state[\"task\"])]\n",
        "    response = model.invoke(messages)\n",
        "    return {\"plan\": response.content}\n",
        "\n",
        "\n",
        "# Conducts research based on the generated plan and web search results\n",
        "def research_plan_node(state: AgentState):\n",
        "    queries = model.with_structured_output(Queries).invoke(\n",
        "        [\n",
        "            SystemMessage(content=RESEARCH_PLAN_PROMPT),\n",
        "            HumanMessage(content=state[\"task\"]),\n",
        "        ]\n",
        "    )\n",
        "    content = state[\"content\"] or []\n",
        "    for q in queries.queries:\n",
        "        response = tavily.search(query=q, max_results=2)\n",
        "        for r in response[\"results\"]:\n",
        "            content.append(r[\"content\"])\n",
        "    return {\"content\": content}\n",
        "\n",
        "\n",
        "# Generates a draft based on the content and plan\n",
        "def generation_node(state: AgentState):\n",
        "    content = \"\\n\\n\".join(state[\"content\"] or [])\n",
        "    user_message = HumanMessage(\n",
        "        content=f\"{state['task']}\\n\\nHere is my plan:\\n\\n{state['plan']}\"\n",
        "    )\n",
        "    messages = [\n",
        "        SystemMessage(content=WRITER_PROMPT.format(content=content)),\n",
        "        user_message,\n",
        "    ]\n",
        "    response = model.invoke(messages)\n",
        "    return {\n",
        "        \"draft\": response.content,\n",
        "        \"revision_number\": state.get(\"revision_number\", 1) + 1,\n",
        "    }\n",
        "\n",
        "\n",
        "# Provides feedback or critique on the draft\n",
        "def reflection_node(state: AgentState):\n",
        "    messages = [\n",
        "        SystemMessage(content=REFLECTION_PROMPT),\n",
        "        HumanMessage(content=state[\"draft\"]),\n",
        "    ]\n",
        "    response = model.invoke(messages)\n",
        "    return {\"critique\": response.content}\n",
        "\n",
        "\n",
        "# Conducts research based on the critique\n",
        "def research_critique_node(state: AgentState):\n",
        "    queries = model.with_structured_output(Queries).invoke(\n",
        "        [\n",
        "            SystemMessage(content=RESEARCH_CRITIQUE_PROMPT),\n",
        "            HumanMessage(content=state[\"critique\"]),\n",
        "        ]\n",
        "    )\n",
        "    content = state[\"content\"] or []\n",
        "    for q in queries.queries:\n",
        "        response = tavily.search(query=q, max_results=2)\n",
        "        for r in response[\"results\"]:\n",
        "            content.append(r[\"content\"])\n",
        "    return {\"content\": content}\n",
        "\n",
        "\n",
        "# Determines whether the critique and research cycle should\n",
        "# continue based on the number of revisions\n",
        "def should_continue(state):\n",
        "    if state[\"revision_number\"] > state[\"max_revisions\"]:\n",
        "        return END\n",
        "    return \"reflect\""
      ]
    },
    {
      "cell_type": "markdown",
      "metadata": {
        "id": "48569416595a"
      },
      "source": [
        "### Define and compile the graph"
      ]
    },
    {
      "cell_type": "code",
      "execution_count": 27,
      "metadata": {
        "id": "86567ad87aa2"
      },
      "outputs": [],
      "source": [
        "# Initialize the state graph\n",
        "builder = StateGraph(AgentState)\n",
        "\n",
        "# Add nodes for each step in the workflow\n",
        "builder.add_node(\"planner\", plan_node)\n",
        "builder.add_node(\"generate\", generation_node)\n",
        "builder.add_node(\"reflect\", reflection_node)\n",
        "builder.add_node(\"research_plan\", research_plan_node)\n",
        "builder.add_node(\"research_critique\", research_critique_node)\n",
        "\n",
        "# Set the entry point of the workflow\n",
        "builder.set_entry_point(\"planner\")\n",
        "\n",
        "# Add conditional edges for task continuation or end\n",
        "builder.add_conditional_edges(\n",
        "    \"generate\", should_continue, {END: END, \"reflect\": \"reflect\"}\n",
        ")\n",
        "\n",
        "# Define task sequence edges\n",
        "builder.add_edge(\"planner\", \"research_plan\")\n",
        "builder.add_edge(\"research_plan\", \"generate\")\n",
        "\n",
        "builder.add_edge(\"reflect\", \"research_critique\")\n",
        "builder.add_edge(\"research_critique\", \"generate\")\n",
        "\n",
        "# Compile the graph with memory state management\n",
        "graph = builder.compile(checkpointer=memory)"
      ]
    },
    {
      "cell_type": "markdown",
      "metadata": {
        "id": "44d87b0a2052"
      },
      "source": [
        "### Show the compiled graph"
      ]
    },
    {
      "cell_type": "code",
      "execution_count": 28,
      "metadata": {
        "id": "9c3170874384",
        "colab": {
          "base_uri": "https://localhost:8080/",
          "height": 563
        },
        "outputId": "1e86ea33-b5d8-46ad-9170-43f175574eef"
      },
      "outputs": [
        {
          "output_type": "execute_result",
          "data": {
            "image/png": "[encoded data removed]",
            "text/plain": [
              "<IPython.core.display.Image object>"
            ]
          },
          "metadata": {},
          "execution_count": 28
        }
      ],
      "source": [
        "Image(graph.get_graph().draw_mermaid_png())"
      ]
    },
    {
      "cell_type": "markdown",
      "metadata": {
        "id": "c95bebc7e74c"
      },
      "source": [
        "### Run the agent - write on!"
      ]
    },
    {
      "cell_type": "code",
      "execution_count": 29,
      "metadata": {
        "id": "2a849843b454",
        "colab": {
          "base_uri": "https://localhost:8080/",
          "height": 1000
        },
        "outputId": "46cd50c2-2bb9-4d5b-9d1b-cb570796b19a"
      },
      "outputs": [
        {
          "output_type": "display_data",
          "data": {
            "text/plain": [
              "<IPython.core.display.Markdown object>"
            ],
            "text/markdown": "# planner"
          },
          "metadata": {}
        },
        {
          "output_type": "display_data",
          "data": {
            "text/plain": [
              "<IPython.core.display.Markdown object>"
            ],
            "text/markdown": "Okay, here's a high-level outline for an essay exploring the impacts of Hurricanes Helene and Milton in 2024. This outline focuses on providing a structure to analyze the multifaceted consequences of these hypothetical hurricanes.\n\n**Essay Title (Example):**  \"Twin Storms, Tangled Impacts: A Comparative Analysis of Hurricanes Helene and Milton's Effects in 2024\"\n\n**I. Introduction**\n\n*   **Hook:** Start with a compelling statistic or a brief, vivid scenario depicting the potential devastation of a major hurricane.  (e.g., \"In 2024, Hurricanes Helene and Milton served as stark reminders of the increasing vulnerability of coastal communities to extreme weather events...\")\n*   **Background:** Briefly introduce the 2024 hurricane season and the context in which Helene and Milton formed. Mention the general factors that contribute to hurricane intensity and impact (climate change, coastal development, etc.).\n*   **Thesis Statement:**  Clearly state the essay's main argument.  For example: \"While both Hurricanes Helene and Milton caused significant damage in 2024, their impacts differed substantially due to variations in their intensity, trajectory, and the preparedness levels of the affected regions, resulting in distinct economic, social, and environmental consequences.\"\n*   **Roadmap:** Briefly outline the key areas the essay will cover (economic impacts, social impacts, environmental impacts, and comparative analysis).\n\n**II. Hurricane Helene: Impacts and Analysis**\n\n*   **A. Storm Characteristics and Trajectory:**\n    *   Describe Helene's intensity (e.g., Category 3 hurricane), path, and duration.\n    *   Include a map (if possible) showing the storm's track.\n    *   Note any unique features of the storm (e.g., rapid intensification, unusual rainfall amounts).\n*   **B. Economic Impacts:**\n    *   **Direct Damage:** Discuss damage to infrastructure (roads, bridges, power grids), buildings (residential, commercial), and agriculture. Provide estimated dollar amounts of damage.\n    *   **Business Interruption:** Analyze the impact on tourism, fishing, manufacturing, and other key industries.  Discuss supply chain disruptions.\n    *   **Recovery Costs:**  Estimate the costs associated with rebuilding, repairs, and economic recovery programs.\n*   **C. Social Impacts:**\n    *   **Displacement and Evacuation:**  Discuss the number of people displaced, the effectiveness of evacuation efforts, and the challenges faced by evacuees.\n    *   **Casualties and Injuries:**  Report the number of deaths and injuries attributed to the storm. Analyze the causes of fatalities (e.g., drowning, falling debris).\n    *   **Public Health:**  Discuss the spread of disease, access to healthcare, and mental health challenges in the aftermath of the storm.\n    *   **Social Disparities:** Analyze how the storm disproportionately affected vulnerable populations (e.g., low-income communities, elderly, disabled).\n*   **D. Environmental Impacts:**\n    *   **Coastal Erosion:**  Discuss the loss of beaches, damage to coastal ecosystems (e.g., mangroves, coral reefs), and saltwater intrusion.\n    *   **Flooding and Water Contamination:**  Analyze the extent of flooding, the impact on water quality, and the risks of waterborne diseases.\n    *   **Habitat Destruction:**  Discuss the impact on wildlife and natural habitats.\n    *   **Long-Term Ecological Effects:** Discuss any long term effects on the environment.\n\n**III. Hurricane Milton: Impacts and Analysis**\n\n*   **A. Storm Characteristics and Trajectory:**\n    *   Describe Milton's intensity, path, and duration.  Highlight any differences from Helene.\n    *   Include a map (if possible) showing the storm's track.\n*   **B. Economic Impacts:**\n    *   Follow the same structure as Section II.B, but focus on the specific economic impacts of Milton.\n*   **C. Social Impacts:**\n    *   Follow the same structure as Section II.C, but focus on the specific social impacts of Milton.\n*   **D. Environmental Impacts:**\n    *   Follow the same structure as Section II.D, but focus on the specific environmental impacts of Milton.\n\n**IV. Comparative Analysis: Helene vs. Milton**\n\n*   **A. Key Differences in Impacts:**  Directly compare and contrast the economic, social, and environmental impacts of the two storms.  Highlight the factors that contributed to these differences (e.g., intensity, location, preparedness).\n*   **B. Lessons Learned:**  Discuss the lessons learned from the two storms in terms of disaster preparedness, response, and recovery.  What worked well? What could have been done better?\n*   **C. Policy Implications:**  Explore the policy implications of the storms.  What changes in building codes, land-use planning, or emergency management are needed to mitigate the impacts of future hurricanes?\n\n**V. Conclusion**\n\n*   **Restate Thesis:**  Summarize the main argument of the essay.\n*   **Synthesize Findings:**  Briefly recap the key findings of the analysis.\n*   **Broader Implications:**  Discuss the broader implications of the study for understanding the risks posed by hurricanes in a changing climate.\n*   **Concluding Statement:** End with a thought-provoking statement about the need for continued research, preparedness, and resilience in the face of future extreme weather events.\n\n**Important Notes:**\n\n*   **Hypothetical Scenario:**  Remember that this essay is based on a hypothetical scenario. You'll need to create realistic but plausible details about the storms and their impacts.\n*   **Data and Sources:**  Even though the events are hypothetical, ground your analysis in real-world data and research on hurricane impacts.  Cite sources appropriately. You can use data from past hurricanes to inform your hypothetical scenarios.\n*   **Geographic Specificity:**  Choose specific locations for the storms to make the analysis more concrete.  For example, you could say Helene impacted the Gulf Coast of Florida and Milton impacted the Carolinas.\n*   **Focus on Analysis:**  The key to a strong essay is not just describing the impacts, but analyzing *why* those impacts occurred and *how* they differed between the two storms.\n*   **Consider Future Projections:** You can incorporate projections about future hurricane activity and climate change to add depth to your analysis.\n\nGood luck! Let me know if you'd like me to elaborate on any of these sections."
          },
          "metadata": {}
        },
        {
          "output_type": "stream",
          "name": "stdout",
          "text": [
            "\n",
            "---\n",
            "\n"
          ]
        },
        {
          "output_type": "display_data",
          "data": {
            "text/plain": [
              "<IPython.core.display.Markdown object>"
            ],
            "text/markdown": "# research_plan"
          },
          "metadata": {}
        },
        {
          "output_type": "display_data",
          "data": {
            "text/plain": [
              "<IPython.core.display.Markdown object>"
            ],
            "text/markdown": "North Carolina was severely impacted by Hurricane Helene during late September 2024, primarily in its western Appalachian region, causing at least 105 reported deaths and significant destruction of infrastructure and residential areas across several settlements.[1] After making landfall in the Big Bend region of Florida on September 27, the hurricane began to traverse over land across Georgia as a Category 2 hurricane and into the Appalachian mountain range as a tropical storm, depositing record-breaking amounts of rainfall across several settlements in western North Carolina, such as Asheville, Swannanoa, Spruce Pine, Chimney Rock, Montreat, Lake Lure, and several others. Of the 241 people reported victims of Hurricane Helene in the United States, 119 people were in North Carolina, surpassing the state record of 80 deaths recorded in a 1916 flood.[8][35] Of these, 72 residents of Buncombe County were among the deceased."
          },
          "metadata": {}
        },
        {
          "output_type": "display_data",
          "data": {
            "text/plain": [
              "<IPython.core.display.Markdown object>"
            ],
            "text/markdown": "Ask the Chatbot Games & Quizzes History & Society Science & Tech Biographies Animals & Nature Geography & Travel Arts & Culture ProCon Money Videos Hurricane Helene, large, catastrophic tropical cyclone notable for its rapid intensification that ultimately produced a wide swath of damage and loss of life that extended from northwestern Florida, where the storm made landfall on September 26, 2024, to Tennessee, Georgia, and North Carolina. Although Helene’s winds had diminished to tropical-storm strength, the storm delivered a broad and deadly swath of heavy rain across the southeastern U.S. In parts of Florida, Georgia, North and South Carolina, Tennessee, and Virginia, record rainfall caused rivers to overflow and produced flash flooding, road washouts, and even landslides in some areas."
          },
          "metadata": {}
        },
        {
          "output_type": "display_data",
          "data": {
            "text/plain": [
              "<IPython.core.display.Markdown object>"
            ],
            "text/markdown": "An EF-0 tornado impacted Martin and St. Lucie counties on October 9, 2024, as Hurricane Milton's rainbands swept across the Treasure Coast. An EF-1 tornado impacted St. Lucie County on October 9, 2024, as Hurricane Milton's outer rainbands moved across the Treasure Coast. In Fort Pierce, the tornado caused significant structural damage to a metal canopy at the St. Lucie County Sheriff's Office, with peak winds estimated at 90 mph before weakening and lifting near the I-95 and Okeechobee interchange. An EF-1 tornado touched down near the Belcher Canal in Fort Pierce, causing vegetative damage and partial roof loss near St. Lucie Blvd and N 25th St. The tornado continued northwest across Treasure Coast International Airport, where several small planes were tossed and recorded gusts of 60 mph."
          },
          "metadata": {}
        },
        {
          "output_type": "display_data",
          "data": {
            "text/plain": [
              "<IPython.core.display.Markdown object>"
            ],
            "text/markdown": "Tracking Population Density Changes During Hurricane Milton As Hurricane Milton approached and ultimately made landfall on Florida’s Gulf Coast, dramatic shifts in population densities across evacuation zones provided key signals of displacement and movement. The earliest impacts on population densities were observed in Zone A, which experienced a 25% decline below the pre-storm baseline, reflecting high compliance with early evacuation orders. Map showing changes in population densities as of October 8, 2024 – right before Hurricane Milton made landfall in Florida. Following Hurricane Milton’s landfall, population shifts continued into Thursday, October 10. Map showing changes in population densities as of October 10, 2024, after Hurricane Milton made landfall in Florida. Understanding population density changes during Hurricane Milton was crucial in identifying evacuation trends, displacement patterns, and community vulnerabilities."
          },
          "metadata": {}
        },
        {
          "output_type": "display_data",
          "data": {
            "text/plain": [
              "<IPython.core.display.Markdown object>"
            ],
            "text/markdown": "Mideast Wars Russia-Ukraine War Español China Asia Pacific Latin America Europe Africa Movie Reviews What to Stream Television Book Reviews Music Celebrity Interviews ![Image 8: FILE - People bike past damaged homes and debris left by Hurricane Milton, on the sand-coated main road of southern Manasota Key, already cleared of feet of sand, in Englewood, Fla., Oct. 13, 2024. Monstrous hurricanes Helene and Milton caused so much complex havoc that damages are still being added up, but government and private experts say they will likely join the infamous ranks of Katrina, Sandy and Harvey as super costly $50-billion-plus killers. (AP Photo/Rebecca Blackwell)](https://dims.apnews.com/dims4/default/aa062df/2147483647/strip/true/crop/5796x3861+0+2/resize/599x399!/quality/90/?url=https%3A%2F%2Fassets.apnews.com%2Faa%2Fbd%2F31de3a8b87f04c62c6209c85debc%2F1ff5a35887fa45ebbaa3f646ff16943e)](https://apnews.com/article/hurricane-milton-florida-unusual-strong-warm-water-helene-0dd01c0e79d888dbda2a96b68fb62a29) (AP Photo/Ramon Espinosa, File)](https://dims.apnews.com/dims4/default/2c3e495/2147483647/strip/true/crop/5616x3741+0+2/resize/599x399!/quality/90/?url=https%3A%2F%2Fassets.apnews.com%2Fff%2F6b%2Fda4baf4357951477249772ca1517%2Fe24fb08fa63848b68f3fade6169d1d6c)](https://apnews.com/article/hurricane-milton-helene-weird-climate-change-disaster-db98e8cfbcc29a191c216a8bc9157f1d) Ebenhack, File)](https://dims.apnews.com/dims4/default/b85c3a8/2147483647/strip/true/crop/7008x4668+0+2/resize/599x399!/quality/90/?url=https%3A%2F%2Fassets.apnews.com%2Fca%2Fa5%2Fd11508ca040c0b2f1c32b4f0068e%2Fd2d29f50bacb4e0288d6c2e732855b10)](https://apnews.com/article/weather-control-climate-change-hurricanes-cloud-seeding-735eaed734e132d6260ee94701c72d5e)"
          },
          "metadata": {}
        },
        {
          "output_type": "display_data",
          "data": {
            "text/plain": [
              "<IPython.core.display.Markdown object>"
            ],
            "text/markdown": "Florida was hit by three different hurricanes: Debby, Helene and Milton. The extremely active 2024 Atlantic Hurricane Season is coming to an end and it is time to take a look back at Helene, Milton and all of the other hurricanes and tropical storms that were in the news this year. Debris from Hurricane Helene lines a street in the Redington Beach section of St. Petersburg, Florida, on October 8, 2024, ahead of Hurricane Milton's expected landfall. J​an Childs, who you'll see writing a large chunk of our news updates here at weather.com, recently traveled back to her hometown on Anna Maria Island, south of Tampa Bay. Three storms - Debby, Helene and Milton - all caused damage."
          },
          "metadata": {}
        },
        {
          "output_type": "stream",
          "name": "stdout",
          "text": [
            "\n",
            "---\n",
            "\n"
          ]
        },
        {
          "output_type": "display_data",
          "data": {
            "text/plain": [
              "<IPython.core.display.Markdown object>"
            ],
            "text/markdown": "# generate"
          },
          "metadata": {}
        },
        {
          "output_type": "display_data",
          "data": {
            "text/plain": [
              "<IPython.core.display.Markdown object>"
            ],
            "text/markdown": "Okay, I will use your outline to write the essay. Here is the first draft:\n\n### Twin Storms, Tangled Impacts: A Comparative Analysis of Hurricanes Helene and Milton's Effects in 2024\n\n**Introduction**\n\nIn 2024, Hurricanes Helene and Milton served as stark reminders of the increasing vulnerability of coastal communities to extreme weather events. The 2024 Atlantic hurricane season, characterized by unusually warm ocean temperatures and favorable atmospheric conditions, spawned two particularly destructive storms that tested the resilience of communities along the southeastern United States. While both hurricanes caused significant damage, their impacts differed substantially due to variations in their intensity, trajectory, and the preparedness levels of the affected regions, resulting in distinct economic, social, and environmental consequences. This essay will analyze the impacts of Hurricanes Helene and Milton, comparing their effects on Florida and North Carolina to highlight the multifaceted challenges posed by these increasingly frequent and intense weather events.\n\n**Hurricane Helene: Impacts and Analysis**\n\nHurricane Helene, a large and catastrophic tropical cyclone, rapidly intensified into a Category 4 hurricane before making landfall in the Big Bend region of Florida on September 26, 2024. While its winds diminished to tropical-storm strength as it moved inland, Helene delivered a broad swath of heavy rain across the southeastern U.S. In Florida, the storm caused widespread flooding, damaging infrastructure and disrupting tourism, a key industry for the state. The economic impact included billions of dollars in property damage and lost revenue. Socially, Helene led to mass evacuations, displacement, and tragically, numerous fatalities. Environmentally, the storm caused significant coastal erosion, water contamination, and habitat destruction, exacerbating existing ecological vulnerabilities in the region.\n\n**Hurricane Milton: Impacts and Analysis**\n\nHurricane Milton struck the Treasure Coast of Florida on October 9, 2024, as a Category 2 hurricane, bringing strong winds and heavy rainfall. Although weaker than Helene, Milton's impact was amplified by the region's recent exposure to previous storms, including Helene itself. The storm spawned several tornadoes, causing additional damage to homes and infrastructure. Economically, Milton further strained resources, compounding the challenges of recovery from Helene. Socially, the storm led to additional displacement and increased mental health challenges for residents already reeling from previous disasters. Environmentally, Milton contributed to further coastal erosion and habitat degradation, underscoring the cumulative impact of successive extreme weather events on vulnerable ecosystems."
          },
          "metadata": {}
        },
        {
          "output_type": "display_data",
          "data": {
            "text/plain": [
              "<IPython.core.display.Markdown object>"
            ],
            "text/markdown": "**Revision Number**: 2"
          },
          "metadata": {}
        },
        {
          "output_type": "stream",
          "name": "stdout",
          "text": [
            "\n",
            "---\n",
            "\n"
          ]
        },
        {
          "output_type": "display_data",
          "data": {
            "text/plain": [
              "<IPython.core.display.Markdown object>"
            ],
            "text/markdown": "# reflect"
          },
          "metadata": {}
        },
        {
          "output_type": "display_data",
          "data": {
            "text/plain": [
              "<IPython.core.display.Markdown object>"
            ],
            "text/markdown": "Okay, here's a detailed critique of your first draft, focusing on areas for improvement in length, depth, style, and content.\n\n**Overall Impression:**\n\nThis is a good start! You've clearly established the context and purpose of your essay. The introduction is well-written and sets the stage for a comparative analysis. The body paragraphs for Helene and Milton provide a decent overview of their impacts. However, the essay needs significant expansion and deeper analysis to meet the requirements of a strong comparative essay.\n\n**Specific Recommendations:**\n\n**1. Length and Depth:**\n\n*   **Overall Length:** The essay is currently too short. Aim for at least 1000-1200 words. This will allow you to develop your points more fully.\n*   **Introduction:** While the introduction is good, consider adding a sentence or two that specifically outlines the *comparative* elements you will be focusing on. What specific aspects of the hurricanes' impacts will you be directly comparing?\n*   **Helene and Milton Sections:** These sections need the most expansion. Each should be at least 300-400 words.\n    *   **Specificity:** Replace general statements with concrete examples and data. Instead of \"billions of dollars in property damage,\" provide a specific estimate (even if it's a range) and cite a source. Instead of \"numerous fatalities,\" provide a number (even if it's preliminary) and cite a source.\n    *   **Elaboration:** For each impact (economic, social, environmental), provide more detail.\n        *   **Economic:** What specific sectors were most affected (agriculture, tourism, fishing, etc.)? How did the storms impact employment? What were the costs of infrastructure repair?\n        *   **Social:** Discuss the demographics of those most affected. Were there specific communities that were disproportionately impacted? What were the challenges related to evacuation and sheltering? What specific mental health challenges arose?\n        *   **Environmental:** What specific habitats were damaged? What were the impacts on water quality? Did the storms affect endangered species?\n    *   **Causes:** Discuss the reasons for the impacts. For example, were there specific infrastructure weaknesses that exacerbated the damage? Did certain policies or lack thereof contribute to the severity of the impacts?\n*   **Comparison Section:** You are missing a dedicated comparison section. This is the *most crucial* part of the essay. This section should be at least 300-400 words and should directly compare and contrast the impacts of Helene and Milton. Consider organizing this section thematically (e.g., Economic Impacts: A Comparison; Social Impacts: A Comparison; Environmental Impacts: A Comparison).\n*   **Conclusion:** You are missing a conclusion. The conclusion should summarize your findings, reiterate your thesis, and offer some concluding thoughts about the broader implications of these storms in the context of climate change and coastal vulnerability.\n\n**2. Style and Tone:**\n\n*   **Academic Tone:** Maintain a formal, academic tone throughout the essay. Avoid overly emotional language or subjective opinions.\n*   **Clarity and Precision:** Use precise language and avoid vague terms.\n*   **Sentence Structure:** Vary your sentence structure to improve readability.\n*   **Transitions:** Use transition words and phrases to create a smooth flow between paragraphs and ideas.\n\n**3. Content and Analysis:**\n\n*   **Comparative Analysis:** The current draft is more of a description of each hurricane's impacts than a comparative analysis. You need to explicitly compare and contrast the impacts of the two storms.\n    *   **Direct Comparison:** Use phrases like \"In contrast to Helene...\" or \"Similar to Milton...\" to directly compare the impacts.\n    *   **Focus on Differences:** Highlight the reasons *why* the impacts differed. Was it due to intensity, location, preparedness, or other factors?\n*   **Preparedness:** You mention preparedness levels in the introduction, but this isn't explored in the body paragraphs. Expand on this. How did preparedness (or lack thereof) affect the outcomes in Florida and North Carolina? What specific measures were taken, and how effective were they?\n*   **Cumulative Impacts:** You briefly mention the cumulative impact of successive storms. Expand on this. How did Helene's impact make the region more vulnerable to Milton?\n*   **Long-Term Effects:** Consider discussing the long-term effects of the storms. What are the projected long-term economic, social, and environmental consequences?\n*   **Policy Implications:** What policy changes might be necessary to mitigate the impacts of future hurricanes?\n\n**4. Research and Evidence:**\n\n*   **Sources:** You need to incorporate credible sources to support your claims. Use a variety of sources, such as government reports (NOAA, FEMA), academic articles, news articles from reputable sources, and reports from non-profit organizations.\n*   **Citations:** Use a consistent citation style (e.g., MLA, APA, Chicago).\n*   **Data:** Include specific data and statistics to quantify the impacts of the storms.\n\n**5. Organization:**\n\n*   **Clear Structure:** Ensure that each paragraph has a clear topic sentence and that the paragraphs are logically organized.\n*   **Consider a Thematic Approach:** As mentioned above, consider organizing your comparison section thematically (e.g., Economic Impacts, Social Impacts, Environmental Impacts).\n\n**Revised Outline Suggestion:**\n\nHere's a slightly revised outline to guide your revisions:\n\nI.  **Introduction**\n    *   Background on the 2024 Hurricane Season\n    *   Brief Overview of Hurricanes Helene and Milton\n    *   Thesis Statement: Comparing the economic, social, and environmental impacts of Helene and Milton, highlighting the role of intensity, location, and preparedness in shaping the outcomes.\nII. **Hurricane Helene: Impacts and Analysis**\n    *   Intensity and Trajectory\n    *   Economic Impacts (with specific examples and data)\n    *   Social Impacts (with specific examples and data)\n    *   Environmental Impacts (with specific examples and data)\n    *   Factors Contributing to the Severity of Impacts\nIII. **Hurricane Milton: Impacts and Analysis**\n    *   Intensity and Trajectory\n    *   Economic Impacts (with specific examples and data)\n    *   Social Impacts (with specific examples and data)\n    *   Environmental Impacts (with specific examples and data)\n    *   Factors Contributing to the Severity of Impacts (including cumulative effects)\nIV. **Comparative Analysis**\n    *   Economic Impacts: A Comparison\n    *   Social Impacts: A Comparison\n    *   Environmental Impacts: A Comparison\n    *   The Role of Preparedness: A Comparison\nV.  **Conclusion**\n    *   Summary of Key Findings\n    *   Reiteration of Thesis\n    *   Broader Implications (climate change, coastal vulnerability, policy recommendations)\n\n**In summary:**\n\nYour first draft provides a solid foundation. To elevate it to a strong comparative essay, you need to:\n\n*   **Expand significantly:** Add more detail, examples, and data.\n*   **Deepen the analysis:** Explore the *reasons* behind the impacts and the factors that contributed to the differences between the two storms.\n*   **Incorporate research:** Support your claims with credible sources.\n*   **Add a dedicated comparison section:** Explicitly compare and contrast the impacts of Helene and Milton.\n*   **Add a conclusion:** Summarize your findings and offer concluding thoughts.\n\nGood luck with the revisions! I'm here to help if you have any further questions."
          },
          "metadata": {}
        },
        {
          "output_type": "stream",
          "name": "stdout",
          "text": [
            "\n",
            "---\n",
            "\n"
          ]
        },
        {
          "output_type": "display_data",
          "data": {
            "text/plain": [
              "<IPython.core.display.Markdown object>"
            ],
            "text/markdown": "# research_critique"
          },
          "metadata": {}
        },
        {
          "output_type": "display_data",
          "data": {
            "text/plain": [
              "<IPython.core.display.Markdown object>"
            ],
            "text/markdown": "North Carolina was severely impacted by Hurricane Helene during late September 2024, primarily in its western Appalachian region, causing at least 105 reported deaths and significant destruction of infrastructure and residential areas across several settlements.[1] After making landfall in the Big Bend region of Florida on September 27, the hurricane began to traverse over land across Georgia as a Category 2 hurricane and into the Appalachian mountain range as a tropical storm, depositing record-breaking amounts of rainfall across several settlements in western North Carolina, such as Asheville, Swannanoa, Spruce Pine, Chimney Rock, Montreat, Lake Lure, and several others. Of the 241 people reported victims of Hurricane Helene in the United States, 119 people were in North Carolina, surpassing the state record of 80 deaths recorded in a 1916 flood.[8][35] Of these, 72 residents of Buncombe County were among the deceased."
          },
          "metadata": {}
        },
        {
          "output_type": "display_data",
          "data": {
            "text/plain": [
              "<IPython.core.display.Markdown object>"
            ],
            "text/markdown": "Ask the Chatbot Games & Quizzes History & Society Science & Tech Biographies Animals & Nature Geography & Travel Arts & Culture ProCon Money Videos Hurricane Helene, large, catastrophic tropical cyclone notable for its rapid intensification that ultimately produced a wide swath of damage and loss of life that extended from northwestern Florida, where the storm made landfall on September 26, 2024, to Tennessee, Georgia, and North Carolina. Although Helene’s winds had diminished to tropical-storm strength, the storm delivered a broad and deadly swath of heavy rain across the southeastern U.S. In parts of Florida, Georgia, North and South Carolina, Tennessee, and Virginia, record rainfall caused rivers to overflow and produced flash flooding, road washouts, and even landslides in some areas."
          },
          "metadata": {}
        },
        {
          "output_type": "display_data",
          "data": {
            "text/plain": [
              "<IPython.core.display.Markdown object>"
            ],
            "text/markdown": "An EF-0 tornado impacted Martin and St. Lucie counties on October 9, 2024, as Hurricane Milton's rainbands swept across the Treasure Coast. An EF-1 tornado impacted St. Lucie County on October 9, 2024, as Hurricane Milton's outer rainbands moved across the Treasure Coast. In Fort Pierce, the tornado caused significant structural damage to a metal canopy at the St. Lucie County Sheriff's Office, with peak winds estimated at 90 mph before weakening and lifting near the I-95 and Okeechobee interchange. An EF-1 tornado touched down near the Belcher Canal in Fort Pierce, causing vegetative damage and partial roof loss near St. Lucie Blvd and N 25th St. The tornado continued northwest across Treasure Coast International Airport, where several small planes were tossed and recorded gusts of 60 mph."
          },
          "metadata": {}
        },
        {
          "output_type": "display_data",
          "data": {
            "text/plain": [
              "<IPython.core.display.Markdown object>"
            ],
            "text/markdown": "Tracking Population Density Changes During Hurricane Milton As Hurricane Milton approached and ultimately made landfall on Florida’s Gulf Coast, dramatic shifts in population densities across evacuation zones provided key signals of displacement and movement. The earliest impacts on population densities were observed in Zone A, which experienced a 25% decline below the pre-storm baseline, reflecting high compliance with early evacuation orders. Map showing changes in population densities as of October 8, 2024 – right before Hurricane Milton made landfall in Florida. Following Hurricane Milton’s landfall, population shifts continued into Thursday, October 10. Map showing changes in population densities as of October 10, 2024, after Hurricane Milton made landfall in Florida. Understanding population density changes during Hurricane Milton was crucial in identifying evacuation trends, displacement patterns, and community vulnerabilities."
          },
          "metadata": {}
        },
        {
          "output_type": "display_data",
          "data": {
            "text/plain": [
              "<IPython.core.display.Markdown object>"
            ],
            "text/markdown": "Mideast Wars Russia-Ukraine War Español China Asia Pacific Latin America Europe Africa Movie Reviews What to Stream Television Book Reviews Music Celebrity Interviews ![Image 8: FILE - People bike past damaged homes and debris left by Hurricane Milton, on the sand-coated main road of southern Manasota Key, already cleared of feet of sand, in Englewood, Fla., Oct. 13, 2024. Monstrous hurricanes Helene and Milton caused so much complex havoc that damages are still being added up, but government and private experts say they will likely join the infamous ranks of Katrina, Sandy and Harvey as super costly $50-billion-plus killers. (AP Photo/Rebecca Blackwell)](https://dims.apnews.com/dims4/default/aa062df/2147483647/strip/true/crop/5796x3861+0+2/resize/599x399!/quality/90/?url=https%3A%2F%2Fassets.apnews.com%2Faa%2Fbd%2F31de3a8b87f04c62c6209c85debc%2F1ff5a35887fa45ebbaa3f646ff16943e)](https://apnews.com/article/hurricane-milton-florida-unusual-strong-warm-water-helene-0dd01c0e79d888dbda2a96b68fb62a29) (AP Photo/Ramon Espinosa, File)](https://dims.apnews.com/dims4/default/2c3e495/2147483647/strip/true/crop/5616x3741+0+2/resize/599x399!/quality/90/?url=https%3A%2F%2Fassets.apnews.com%2Fff%2F6b%2Fda4baf4357951477249772ca1517%2Fe24fb08fa63848b68f3fade6169d1d6c)](https://apnews.com/article/hurricane-milton-helene-weird-climate-change-disaster-db98e8cfbcc29a191c216a8bc9157f1d) Ebenhack, File)](https://dims.apnews.com/dims4/default/b85c3a8/2147483647/strip/true/crop/7008x4668+0+2/resize/599x399!/quality/90/?url=https%3A%2F%2Fassets.apnews.com%2Fca%2Fa5%2Fd11508ca040c0b2f1c32b4f0068e%2Fd2d29f50bacb4e0288d6c2e732855b10)](https://apnews.com/article/weather-control-climate-change-hurricanes-cloud-seeding-735eaed734e132d6260ee94701c72d5e)"
          },
          "metadata": {}
        },
        {
          "output_type": "display_data",
          "data": {
            "text/plain": [
              "<IPython.core.display.Markdown object>"
            ],
            "text/markdown": "Florida was hit by three different hurricanes: Debby, Helene and Milton. The extremely active 2024 Atlantic Hurricane Season is coming to an end and it is time to take a look back at Helene, Milton and all of the other hurricanes and tropical storms that were in the news this year. Debris from Hurricane Helene lines a street in the Redington Beach section of St. Petersburg, Florida, on October 8, 2024, ahead of Hurricane Milton's expected landfall. J​an Childs, who you'll see writing a large chunk of our news updates here at weather.com, recently traveled back to her hometown on Anna Maria Island, south of Tampa Bay. Three storms - Debby, Helene and Milton - all caused damage."
          },
          "metadata": {}
        },
        {
          "output_type": "display_data",
          "data": {
            "text/plain": [
              "<IPython.core.display.Markdown object>"
            ],
            "text/markdown": "Hurricane Helene’s Aftermath: Economic Impacts and Investor Strategies - The Financial Analyst Economics Menu Toggle Markets Menu Toggle Jobs Menu Toggle Post a Job Hurricane Helene’s Aftermath: Economic Impacts and Investor Strategies The aftermath of Hurricane Helene has opened a complex dialogue about the economic ramifications for investors and markets, particularly as the southeastern United States grapples with extensive damage and recovery efforts. For investors, the immediate impact of such disasters often manifests in sectors like insurance, construction, and retail. Investors should be prepared for fluctuations in market performance as the recovery unfolds. U.S. Defense Vision for Indo-Pacific: Impacts on Investors and Markets By Emily Chen / November 21, 2024 Economics Menu Toggle Markets Menu Toggle Jobs Menu Toggle Post a Job"
          },
          "metadata": {}
        },
        {
          "output_type": "display_data",
          "data": {
            "text/plain": [
              "<IPython.core.display.Markdown object>"
            ],
            "text/markdown": "Hurricane Helene: Economic Losses Could Total $160 Billion - Newsweek The economic impact of Hurricane Helene's deadly assault on the Eastern U.S. could total up to $160 billion, according to a report from AccuWeather. A report by AccuWeather estimated the total damage and economic loss from Hurricane Helene could reach $160 billion. \"AccuWeather experts have continually monitored information related to Hurricane Helene from a variety of sources, and, unfortunately, upon early surveying  of the scale of damage to homes and businesses, the extensive loss of life, injuries, evacuations, rescues and widespread power outages which are likely to last at least weeks in some areas and other factors, we were compelled to increase our estimate,\" AccuWeather chief meteorologist Jon Porter said in an advisory shared with Newsweek."
          },
          "metadata": {}
        },
        {
          "output_type": "display_data",
          "data": {
            "text/plain": [
              "<IPython.core.display.Markdown object>"
            ],
            "text/markdown": "Oct 26, 2024 · By ConstruNorth Inc ... Restoration efforts are crucial to mitigate these effects. Social Impact. Communities faced immense challenges during and after the hurricane. Many people lost their homes, and access to basic services was disrupted. ... Understanding Hurricane Milton's impact is vital for recovery and future planning"
          },
          "metadata": {}
        },
        {
          "output_type": "display_data",
          "data": {
            "text/plain": [
              "<IPython.core.display.Markdown object>"
            ],
            "text/markdown": "Tracking Population Density Changes During Hurricane Milton As Hurricane Milton approached and ultimately made landfall on Florida’s Gulf Coast, dramatic shifts in population densities across evacuation zones provided key signals of displacement and movement. The earliest impacts on population densities were observed in Zone A, which experienced a 25% decline below the pre-storm baseline, reflecting high compliance with early evacuation orders. Map showing changes in population densities as of October 8, 2024 – right before Hurricane Milton made landfall in Florida. Following Hurricane Milton’s landfall, population shifts continued into Thursday, October 10. Map showing changes in population densities as of October 10, 2024, after Hurricane Milton made landfall in Florida. Understanding population density changes during Hurricane Milton was crucial in identifying evacuation trends, displacement patterns, and community vulnerabilities."
          },
          "metadata": {}
        },
        {
          "output_type": "display_data",
          "data": {
            "text/plain": [
              "<IPython.core.display.Markdown object>"
            ],
            "text/markdown": "National Hurricane Preparedness Week is May 5th - May 11th, 2024. The National Weather Service and the North Carolina Department of Public Safety are teaming up to bring this hurricane safety campaign to all of North Carolina's residents. With warmer weather quickly approaching, now is the time to prepare for hurricane season."
          },
          "metadata": {}
        },
        {
          "output_type": "display_data",
          "data": {
            "text/plain": [
              "<IPython.core.display.Markdown object>"
            ],
            "text/markdown": "Read ICEYE's summary of the 2024 Atlantic hurricane season to understand trends, impacts, and future risks for disaster response and recovery. ... \"It's hard to forget the devastation in North Carolina from Helene, in Florida from Milton, or in the Windward Islands from Beryl.\" ... The role of observed data in future hurricane preparedness ."
          },
          "metadata": {}
        },
        {
          "output_type": "stream",
          "name": "stdout",
          "text": [
            "\n",
            "---\n",
            "\n"
          ]
        },
        {
          "output_type": "display_data",
          "data": {
            "text/plain": [
              "<IPython.core.display.Markdown object>"
            ],
            "text/markdown": "# generate"
          },
          "metadata": {}
        },
        {
          "output_type": "display_data",
          "data": {
            "text/plain": [
              "<IPython.core.display.Markdown object>"
            ],
            "text/markdown": "Okay, I will use your outline to generate the essay. Here is the first attempt:\n\n**Twin Storms, Tangled Impacts: A Comparative Analysis of Hurricanes Helene and Milton's Effects in 2024**\n\n**Introduction**\nIn 2024, Hurricanes Helene and Milton served as stark reminders of the increasing vulnerability of coastal communities to extreme weather events. The 2024 Atlantic hurricane season, characterized by warmer-than-average sea temperatures and favorable atmospheric conditions, spawned two particularly devastating storms that tested the resilience of communities along the southeastern United States. While climate change and coastal development exacerbate the intensity and impact of such storms, preparedness and location play crucial roles in determining the extent of damage. This essay argues that while both Hurricanes Helene and Milton caused significant damage in 2024, their impacts differed substantially due to variations in their intensity, trajectory, and the preparedness levels of the affected regions, resulting in distinct economic, social, and environmental consequences. This analysis will explore the economic, social, and environmental impacts of each storm, providing a comparative analysis to highlight key differences and lessons learned.\n\n**Hurricane Helene: Impacts and Analysis**\nHurricane Helene, a Category 4 storm at its peak, made landfall in the Big Bend region of Florida in late September 2024. Its trajectory cut across the state and into the Appalachian mountain range as a tropical storm, unleashing record-breaking rainfall across western North Carolina. The economic impacts were extensive, with AccuWeather estimating total damage and economic loss at $160 billion. Infrastructure suffered greatly, with roads and bridges washed out, power grids crippled, and residential and commercial buildings sustaining significant damage. The tourism industry, a vital component of Florida's economy, faced severe disruptions due to widespread damage and closures. Socially, Helene led to mass displacement, with thousands evacuated from coastal areas. In North Carolina alone, over 100 fatalities were reported due to flooding and landslides, highlighting the storm's deadly impact on inland communities. The environmental consequences included severe coastal erosion, saltwater intrusion into freshwater sources, and widespread habitat destruction, particularly affecting vulnerable ecosystems like the Everglades.\n\n**Hurricane Milton: Impacts and Analysis**\nHurricane Milton, while a smaller storm, still wrought significant havoc when it made landfall on Florida's Gulf Coast in October 2024. Although Milton's winds had diminished to tropical-storm strength, the storm delivered a broad and deadly swath of heavy rain across the southeastern U.S. Tracking population density changes during Hurricane Milton revealed a 25% decline below the pre-storm baseline in Zone A, reflecting high compliance with early evacuation orders. Several EF-0 and EF-1 tornadoes touched down as Hurricane Milton's rainbands swept across the Treasure Coast, causing structural damage to buildings and vegetation. The economic impacts included damage to infrastructure and residential areas, with recovery efforts further strained by the successive blows from Helene. Socially, Milton exacerbated the challenges already faced by communities recovering from Helene, leading to increased stress on resources and mental health services. Environmentally, Milton contributed to further coastal erosion and water contamination, hindering long-term recovery efforts. The combined impact of these storms underscored the region's vulnerability to increasingly frequent and intense weather events."
          },
          "metadata": {}
        },
        {
          "output_type": "display_data",
          "data": {
            "text/plain": [
              "<IPython.core.display.Markdown object>"
            ],
            "text/markdown": "**Revision Number**: 3"
          },
          "metadata": {}
        },
        {
          "output_type": "stream",
          "name": "stdout",
          "text": [
            "\n",
            "---\n",
            "\n"
          ]
        }
      ],
      "source": [
        "# Define the topic of the essay\n",
        "ESSAY_TOPIC = \"What were the impacts of Hurricane Helene and Hurricane Milton in 2024?\"\n",
        "\n",
        "# Define a thread configuration with a unique thread ID\n",
        "thread = {\"configurable\": {\"thread_id\": \"1\"}}\n",
        "\n",
        "# Stream through the graph execution with an initial task and state\n",
        "for s in graph.stream(\n",
        "    {\n",
        "        \"task\": ESSAY_TOPIC,  # Initial task\n",
        "        \"max_revisions\": 2,  # Maximum number of revisions allowed\n",
        "        \"revision_number\": 1,  # Current revision number\n",
        "        \"content\": [],  # Initial empty content list\n",
        "    },\n",
        "    thread,\n",
        "):\n",
        "    step = next(iter(s))\n",
        "    display(Markdown(f\"# {step}\"))\n",
        "    for key, content in s[step].items():\n",
        "        if key == \"revision_number\":\n",
        "            display(Markdown(f\"**Revision Number**: {content}\"))\n",
        "        elif isinstance(content, list):\n",
        "            for c in content:\n",
        "                display(Markdown(c))\n",
        "        else:\n",
        "            display(Markdown(content))\n",
        "    print(\"\\n---\\n\")"
      ]
    },
    {
      "cell_type": "markdown",
      "metadata": {
        "id": "4c95d0cd7f6a"
      },
      "source": [
        "### Output the final draft of the essay"
      ]
    },
    {
      "cell_type": "code",
      "execution_count": null,
      "metadata": {
        "id": "e50e674081f2",
        "outputId": "bb70419a-0b82-48f6-8e13-69fb9c9edb71"
      },
      "outputs": [
        {
          "data": {
            "text/markdown": [
              "Okay, I understand. Here's a 3-paragraph essay based on the provided information and your outline, focusing on the impacts of Hurricanes Helene and Milton in 2024.\n",
              "\n",
              "**Title: The Destructive Force of Hurricanes Helene and Milton in 2024**\n",
              "\n",
              "**Paragraph 1: Hurricane Helene's Devastation**\n",
              "\n",
              "Hurricane Helene made its presence known in late September 2024, leaving a trail of destruction across multiple states. The storm's powerful winds, reaching 67 mph in Naples, Florida, caused widespread power outages, leaving 1.3 million people in the dark. Coastal areas were battered by significant storm surges, with Steinhatchee experiencing a surge of 9.63 feet before the recording meter failed, and Tampa seeing surges of 7.18 feet. The Stan Gober Memorial Bridge was shut down due to flooding, and sporting events in Collier County were canceled, highlighting the storm's disruptive force. Beyond Florida, Hurricane Helene also caused severe impacts in North Carolina, particularly in the western Appalachian region, resulting in at least 104 reported deaths and significant damage to infrastructure and residential areas. The storm's path across land into Georgia further exacerbated the damage, demonstrating the widespread reach of a major hurricane.\n",
              "\n",
              "**Paragraph 2: Hurricane Milton's Ferocity**\n",
              "\n",
              "Hurricane Milton, an exceptionally powerful cyclone, struck Florida in October 2024, causing widespread flooding and devastation. It became the second-most intense Atlantic hurricane ever recorded, leaving a trail of destruction that included flattened homes and millions without power. The storm's impact was not limited to wind and flooding; an EF-2 tornado, spawned from Milton's outer rainbands, touched down in Stuart, Florida, causing significant damage to homes and infrastructure. The combined effects of wind, rain, and tornadoes resulted in at least 32 deaths in the United States, with the total death toll reaching 35 when including fatalities in Mexico. The storm's intensity and broad reach underscore the catastrophic potential of major hurricanes.\n",
              "\n",
              "**Paragraph 3: A Season of Unprecedented Storms**\n",
              "\n",
              "The 2024 Atlantic hurricane season was marked by the devastating impacts of both Helene and Milton, contributing to an exceptionally active season that exceeded long-term averages. The combined effects of these storms, along with others, resulted in significant loss of life, widespread property damage, and long-term disruptions to communities. The season's intensity highlights the increasing threat posed by hurricanes, particularly in vulnerable coastal and rural areas. The long-term effects of these weather disasters, including impacts on longevity and disproportionate effects on rural and coastal communities, underscore the need for continued research, preparedness, and effective disaster response strategies.\n",
              "\n",
              "---\n",
              "Let me know if you'd like any revisions or adjustments!"
            ],
            "text/plain": [
              "<IPython.core.display.Markdown object>"
            ]
          },
          "metadata": {},
          "output_type": "display_data"
        }
      ],
      "source": [
        "display(Markdown(s[\"generate\"][\"draft\"]))"
      ]
    },
    {
      "cell_type": "markdown",
      "metadata": {
        "id": "c01d26c8df5b"
      },
      "source": [
        "## Additional Resources\n",
        "\n",
        "- [Google Cloud Generative AI repository on GitHub](https://github.com/GoogleCloudPlatform/generative-ai/)\n",
        "- [Gemini API in Google AI Studio](https://ai.google.dev/gemini-api/docs)\n",
        "- [Gemini API in Vertex AI](https://cloud.google.com/vertex-ai/generative-ai/docs/multimodal/overview)\n",
        "- [LangGraph tutorials](https://langchain-ai.github.io/langgraph/tutorials/)\n",
        "- [DeepLearning.AI course on AI Agents in LangGraph](https://www.deeplearning.ai/short-courses/ai-agents-in-langgraph/)"
      ]
    }
  ],
  "metadata": {
    "colab": {
      "name": "ai_agents_for_engineers.ipynb",
      "provenance": []
    },
    "kernelspec": {
      "display_name": "Python 3",
      "name": "python3"
    }
  },
  "nbformat": 4,
  "nbformat_minor": 0
}